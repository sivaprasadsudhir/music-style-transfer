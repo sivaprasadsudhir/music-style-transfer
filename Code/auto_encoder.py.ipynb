{
 "cells": [
  {
   "cell_type": "code",
   "execution_count": 54,
   "metadata": {
    "collapsed": false
   },
   "outputs": [],
   "source": [
    "from keras.layers import Input, Dense\n",
    "from keras.models import Model\n",
    "import numpy as np"
   ]
  },
  {
   "cell_type": "code",
   "execution_count": null,
   "metadata": {
    "collapsed": true
   },
   "outputs": [],
   "source": []
  },
  {
   "cell_type": "code",
   "execution_count": null,
   "metadata": {
    "collapsed": true
   },
   "outputs": [],
   "source": [
    "class Autoencoder(object):\n",
    "\n",
    "    def __init__(self, input_shape):\n",
    "\n",
    "        # this is the size of our encoded representations\n",
    "        # 32 floats -> compression of factor 24.5, \n",
    "        # assuming the input is 784 floats\n",
    "        self.encoding_dim = 16  \n",
    "\n",
    "        # this is our input placeholder\n",
    "        self.input_img = Input(shape=(784,))\n",
    "\n",
    "        # \"encoded\" is the encoded representation of the input\n",
    "        self.encoded = Dense(self.encoding_dim, activation='relu')(self.input_img)\n",
    "\n",
    "        # \"decoded\" is the lossy reconstruction of the input\n",
    "        self.decoded = Dense(784, activation='sigmoid')(self.encoded)\n",
    "\n",
    "        # this model maps an input to its reconstruction\n",
    "        self.model = Model(self.input_img, self.decoded)\n",
    "\n",
    "        self.model.compile(optimizer='adadelta',\n",
    "                                 loss='binary_crossentropy')\n",
    "\n",
    "        self.encoder_network()\n",
    "        self.decoder_network()\n",
    "        \n",
    "    def encoder_network(self):\n",
    "\n",
    "        # this model maps an input to its encoded representation\n",
    "        self.encoder = Model(self.input_img, self.encoded)\n",
    "    \n",
    "    def decoder_network(self):\n",
    "\n",
    "        # create a placeholder for an encoded (32-dimensional) input\n",
    "\t\tencoded_input = Input(shape=(self.encoding_dim,))\n",
    "\t\t# retrieve the last layer of the autoencoder model\n",
    "\t\tdecoder_layer = self.model.layers[-1]\n",
    "\t\t# create the decoder model\n",
    "\t\tself.decoder = Model(encoded_input, decoder_layer(encoded_input))"
   ]
  },
  {
   "cell_type": "code",
   "execution_count": null,
   "metadata": {
    "collapsed": false
   },
   "outputs": [],
   "source": [
    "class data(object):\n",
    "\n",
    "    def __init__(self):\n",
    "        self.get_data()\n",
    "        self.network = Autoencoder(np.prod(self.x_train.shape[1:]))\n",
    "\n",
    "    def get_data(self):\n",
    "        (x_train, _), (x_test, _) = mnist.load_data()\n",
    "\n",
    "        print (x_train.shape)\n",
    "#         sys.exit()\n",
    "        \n",
    "        x_train = x_train.astype('float32') / 255.\n",
    "        x_test = x_test.astype('float32') / 255.\n",
    "        \n",
    "        print (x_train.shape)\n",
    "        sys.exit()\n",
    "        \n",
    "        self.x_train = x_train.reshape((len(x_train), np.prod(x_train.shape[1:])))\n",
    "        self.x_test = x_test.reshape((len(x_test), np.prod(x_test.shape[1:])))\n",
    "    \n",
    "    def train(self):\n",
    "        self.network.model.fit(self.x_train, self.x_train,\n",
    "                epochs=100,\n",
    "                batch_size=256,\n",
    "                shuffle=True,\n",
    "                validation_data=(self.x_test, x_test))\n",
    "        "
   ]
  },
  {
   "cell_type": "code",
   "execution_count": null,
   "metadata": {
    "collapsed": false
   },
   "outputs": [],
   "source": [
    "data1 = data()\n",
    "# data.get_data()"
   ]
  },
  {
   "cell_type": "code",
   "execution_count": 43,
   "metadata": {
    "collapsed": false
   },
   "outputs": [
    {
     "data": {
      "image/png": "[encoded data removed]",
      "text/plain": [
       "<Figure size 432x288 with 1 Axes>"
      ]
     },
     "metadata": {},
     "output_type": "display_data"
    }
   ],
   "source": [
    "import matplotlib.pyplot as plt\n",
    "from scipy import signal\n",
    "from scipy.io import wavfile\n",
    "\n",
    "sample_rate, samples = wavfile.read('../Data/bass_acoustic/bass_acoustic_000-025-050.wav')\n",
    "frequencies, times, spectogram = signal.spectrogram(samples, sample_rate)\n",
    "\n",
    "plt.pcolormesh(times, frequencies, spectogram)\n",
    "plt.imshow(spectogram)\n",
    "plt.ylabel('Frequency [Hz]')\n",
    "plt.xlabel('Time [sec]')\n",
    "plt.show()"
   ]
  },
  {
   "cell_type": "code",
   "execution_count": 46,
   "metadata": {
    "collapsed": false
   },
   "outputs": [
    {
     "name": "stdout",
     "output_type": "stream",
     "text": [
      "(129,)\n",
      "(285,)\n",
      "(129, 285)\n",
      "16000\n",
      "(64000,)\n"
     ]
    }
   ],
   "source": [
    "print (frequencies.shape)\n",
    "print (times.shape)\n",
    "print (spectogram.shape)\n",
    "print (sample_rate)\n",
    "print (samples.shape)"
   ]
  },
  {
   "cell_type": "code",
   "execution_count": 49,
   "metadata": {
    "collapsed": false
   },
   "outputs": [
    {
     "name": "stdout",
     "output_type": "stream",
     "text": [
      "[0 0 0 ..., 0 0 0]\n",
      "64000\n"
     ]
    }
   ],
   "source": [
    "print (samples)\n",
    "print (len(samples))"
   ]
  },
  {
   "cell_type": "code",
   "execution_count": null,
   "metadata": {
    "collapsed": true
   },
   "outputs": [],
   "source": []
  }
 ],
 "metadata": {
  "kernelspec": {
   "display_name": "Python 2",
   "language": "python",
   "name": "python2"
  },
  "language_info": {
   "codemirror_mode": {
    "name": "ipython",
    "version": 2
   },
   "file_extension": ".py",
   "mimetype": "text/x-python",
   "name": "python",
   "nbconvert_exporter": "python",
   "pygments_lexer": "ipython2",
   "version": "2.7.11"
  }
 },
 "nbformat": 4,
 "nbformat_minor": 1
}
